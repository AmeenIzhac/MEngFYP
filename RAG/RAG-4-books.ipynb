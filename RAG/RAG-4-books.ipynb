{
  "cells": [
    {
      "cell_type": "code",
      "execution_count": 1,
      "metadata": {},
      "outputs": [],
      "source": [
        "OPENAI_API_KEY = \"INSERT_OPEN_API_KEY_HERE\"\n",
        "ANTHROPIC_API_KEY = \"INSERT_ANTHROPIC_API_KEY_HERE\""
      ]
    },
    {
      "cell_type": "code",
      "execution_count": 2,
      "metadata": {},
      "outputs": [],
      "source": [
        "import nest_asyncio\n",
        "\n",
        "nest_asyncio.apply()"
      ]
    },
    {
      "cell_type": "code",
      "execution_count": 9,
      "metadata": {},
      "outputs": [],
      "source": [
        "from llama_index.core import SimpleDirectoryReader\n",
        "\n",
        "documents1 = SimpleDirectoryReader(input_files=[\"anatomybook.pdf\"]).load_data()\n",
        "documents3 = SimpleDirectoryReader(input_files=[\"anatomybook.pdf\",\"anatomybook2.pdf\",\"anatomybook3.pdf\"]).load_data()\n",
        "documents5 = SimpleDirectoryReader(input_files=[\"anatomybook.pdf\",\"anatomybook2.pdf\",\"anatomybook3.pdf\",\"anatomybook4.pdf\",\"anatomybook5.pdf\"]).load_data()"
      ]
    },
    {
      "cell_type": "code",
      "execution_count": 28,
      "metadata": {},
      "outputs": [],
      "source": [
        "documents2 = SimpleDirectoryReader(input_files=[\"anatomybook.pdf\",\"anatomybook2.pdf\"]).load_data()\n",
        "documents4 = SimpleDirectoryReader(input_files=[\"anatomybook.pdf\",\"anatomybook2.pdf\",\"anatomybook3.pdf\",\"anatomybook4.pdf\"]).load_data()"
      ]
    },
    {
      "cell_type": "code",
      "execution_count": 10,
      "metadata": {},
      "outputs": [],
      "source": [
        "from llama_index.core.node_parser import SentenceSplitter\n",
        "from llama_index.core.selectors import LLMSingleSelector\n",
        "\n",
        "splitter = SentenceSplitter(chunk_size=1024)\n",
        "\n",
        "nodes1 = splitter.get_nodes_from_documents(documents1)\n",
        "nodes2 = splitter.get_nodes_from_documents(documents3)\n",
        "nodes3 = splitter.get_nodes_from_documents(documents5)"
      ]
    },
    {
      "cell_type": "code",
      "execution_count": 29,
      "metadata": {},
      "outputs": [],
      "source": [
        "nodes4 = splitter.get_nodes_from_documents(documents2)\n",
        "nodes5 = splitter.get_nodes_from_documents(documents4)"
      ]
    },
    {
      "cell_type": "code",
      "execution_count": 11,
      "metadata": {},
      "outputs": [],
      "source": [
        "from llama_index.core import Settings\n",
        "from llama_index.llms.openai import OpenAI\n",
        "from llama_index.embeddings.openai import OpenAIEmbedding\n",
        "\n",
        "Settings.llm = OpenAI(model=\"gpt-3.5-turbo\", api_key=OPENAI_API_KEY)\n",
        "Settings.embed_model = OpenAIEmbedding(model=\"text-embedding-ada-002\", api_key=OPENAI_API_KEY)"
      ]
    },
    {
      "cell_type": "code",
      "execution_count": 12,
      "metadata": {},
      "outputs": [],
      "source": [
        "from llama_index.core import VectorStoreIndex\n",
        "from llama_index.core import StorageContext, load_index_from_storage\n",
        "\n",
        "vector_index1 = VectorStoreIndex(nodes1)\n",
        "vector_index2 = VectorStoreIndex(nodes2)\n",
        "vector_index3 = VectorStoreIndex(nodes3)"
      ]
    },
    {
      "cell_type": "code",
      "execution_count": 30,
      "metadata": {},
      "outputs": [],
      "source": [
        "vector_index4 = VectorStoreIndex(nodes4)\n",
        "vector_index5 = VectorStoreIndex(nodes5)"
      ]
    },
    {
      "cell_type": "code",
      "execution_count": 13,
      "metadata": {},
      "outputs": [],
      "source": [
        "query_engine1 = vector_index1.as_query_engine(chat_mode=\"best\", llm=OpenAI(model=\"gpt-3.5-turbo\"), verbose=True)\n",
        "query_engine2 = vector_index2.as_query_engine(chat_mode=\"best\", llm=OpenAI(model=\"gpt-3.5-turbo\"), verbose=True)\n",
        "query_engine3 = vector_index3.as_query_engine(chat_mode=\"best\", llm=OpenAI(model=\"gpt-3.5-turbo\"), verbose=True)"
      ]
    },
    {
      "cell_type": "code",
      "execution_count": 31,
      "metadata": {},
      "outputs": [],
      "source": [
        "query_engine4 = vector_index4.as_query_engine(chat_mode=\"best\", llm=OpenAI(model=\"gpt-3.5-turbo\"), verbose=True)\n",
        "query_engine5 = vector_index5.as_query_engine(chat_mode=\"best\", llm=OpenAI(model=\"gpt-3.5-turbo\"), verbose=True)"
      ]
    },
    {
      "cell_type": "code",
      "execution_count": 14,
      "metadata": {},
      "outputs": [],
      "source": [
        "from datasets import load_dataset\n",
        "\n",
        "dataset_validation = load_dataset(\"openlifescienceai/medmcqa\", split=\"validation\").filter(lambda example: example[\"subject_name\"] == \"Anatomy\")"
      ]
    },
    {
      "cell_type": "markdown",
      "metadata": {},
      "source": [
        "# query engine 1"
      ]
    },
    {
      "cell_type": "code",
      "execution_count": 16,
      "metadata": {},
      "outputs": [],
      "source": [
        "def predict1(prompt):\n",
        "    return str(query_engine1.query(prompt))\n",
        "\n",
        "def evaluate1():\n",
        "  SAMPLE_CNT = len(dataset_validation)\n",
        "  mismatch_cnt = 0\n",
        "  predictions = []\n",
        "  references = []\n",
        "\n",
        "  for i in range(SAMPLE_CNT):\n",
        "    example = dataset_validation[i]\n",
        "    question, option_a, option_b, option_c, option_d = example[\"question\"], example[\"opa\"], example[\"opb\"], example[\"opc\"], example[\"opd\"]\n",
        "    prompt = f'''{question}\n",
        "\n",
        "{option_a}\n",
        "{option_b}\n",
        "{option_c}\n",
        "{option_d}\n",
        "\n",
        "Respond with the correct choice from the list above verbatim.  Do not include any explanation.'''\n",
        "\n",
        "    options = [example['opa'], example['opb'], example['opc'], example['opd']]\n",
        "    correct_option = options[example['cop']]\n",
        "    references.append(correct_option)\n",
        "\n",
        "    prediction = predict1(prompt)\n",
        "    if prediction not in options:\n",
        "      prompt += prediction + \"\\n\\nYour response does not exactly match one of the choices from the list. Do not apologise or include any text other than one of the options from the list verbatim without any label. Here are the options again\\n\\n\" + example['opa'] + \"\\n\\n\" + example['opb'] + \"\\n\\n\" + example['opc'] + \"\\n\\n\" + example['opd']\n",
        "      prediction = predict1(prompt)\n",
        "\n",
        "    predictions.append(prediction)\n",
        "\n",
        "    mismatch_cnt += prediction not in options\n",
        "\n",
        "  exact_match = sum([prediction == reference for prediction, reference, in zip(predictions, references)]) / SAMPLE_CNT\n",
        "  mismatch = mismatch_cnt / SAMPLE_CNT\n",
        "\n",
        "  return exact_match, mismatch\n",
        "\n",
        "exact_match, mismatch = evaluate1()"
      ]
    },
    {
      "cell_type": "code",
      "execution_count": 17,
      "metadata": {},
      "outputs": [
        {
          "name": "stdout",
          "output_type": "stream",
          "text": [
            "exact_match: 0.5897435897435898\n",
            "mismatch: 0.03418803418803419\n"
          ]
        }
      ],
      "source": [
        "print(\"exact_match:\", exact_match)\n",
        "print(\"mismatch:\", mismatch)"
      ]
    },
    {
      "cell_type": "markdown",
      "metadata": {},
      "source": [
        "# query engine 2"
      ]
    },
    {
      "cell_type": "code",
      "execution_count": 18,
      "metadata": {},
      "outputs": [],
      "source": [
        "def predict2(prompt):\n",
        "    return str(query_engine2.query(prompt))\n",
        "\n",
        "def evaluate2():\n",
        "  SAMPLE_CNT = len(dataset_validation)\n",
        "  mismatch_cnt = 0\n",
        "  predictions = []\n",
        "  references = []\n",
        "\n",
        "  for i in range(SAMPLE_CNT):\n",
        "    example = dataset_validation[i]\n",
        "    question, option_a, option_b, option_c, option_d = example[\"question\"], example[\"opa\"], example[\"opb\"], example[\"opc\"], example[\"opd\"]\n",
        "    prompt = f'''{question}\n",
        "\n",
        "{option_a}\n",
        "{option_b}\n",
        "{option_c}\n",
        "{option_d}\n",
        "\n",
        "Respond with the correct choice from the list above verbatim.  Do not include any explanation.'''\n",
        "\n",
        "    options = [example['opa'], example['opb'], example['opc'], example['opd']]\n",
        "    correct_option = options[example['cop']]\n",
        "    references.append(correct_option)\n",
        "\n",
        "    prediction = predict2(prompt)\n",
        "    if prediction not in options:\n",
        "      prompt += prediction + \"\\n\\nYour response does not exactly match one of the choices from the list. Do not apologise or include any text other than one of the options from the list verbatim without any label. Here are the options again\\n\\n\" + example['opa'] + \"\\n\\n\" + example['opb'] + \"\\n\\n\" + example['opc'] + \"\\n\\n\" + example['opd']\n",
        "      prediction = predict2(prompt)\n",
        "\n",
        "    predictions.append(prediction)\n",
        "\n",
        "    mismatch_cnt += prediction not in options\n",
        "\n",
        "  exact_match = sum([prediction == reference for prediction, reference, in zip(predictions, references)]) / SAMPLE_CNT\n",
        "  mismatch = mismatch_cnt / SAMPLE_CNT\n",
        "\n",
        "  return exact_match, mismatch\n",
        "\n",
        "exact_match, mismatch = evaluate2()"
      ]
    },
    {
      "cell_type": "code",
      "execution_count": 19,
      "metadata": {},
      "outputs": [
        {
          "name": "stdout",
          "output_type": "stream",
          "text": [
            "exact_match: 0.5598290598290598\n",
            "mismatch: 0.038461538461538464\n"
          ]
        }
      ],
      "source": [
        "print(\"exact_match:\", exact_match)\n",
        "print(\"mismatch:\", mismatch)"
      ]
    },
    {
      "cell_type": "markdown",
      "metadata": {},
      "source": [
        "# query engine 3"
      ]
    },
    {
      "cell_type": "code",
      "execution_count": 20,
      "metadata": {},
      "outputs": [],
      "source": [
        "def predict3(prompt):\n",
        "    return str(query_engine3.query(prompt))\n",
        "\n",
        "def evaluate3():\n",
        "  SAMPLE_CNT = len(dataset_validation)\n",
        "  mismatch_cnt = 0\n",
        "  predictions = []\n",
        "  references = []\n",
        "\n",
        "  for i in range(SAMPLE_CNT):\n",
        "    example = dataset_validation[i]\n",
        "    question, option_a, option_b, option_c, option_d = example[\"question\"], example[\"opa\"], example[\"opb\"], example[\"opc\"], example[\"opd\"]\n",
        "    prompt = f'''{question}\n",
        "\n",
        "{option_a}\n",
        "{option_b}\n",
        "{option_c}\n",
        "{option_d}\n",
        "\n",
        "Respond with the correct choice from the list above verbatim.  Do not include any explanation.'''\n",
        "\n",
        "    options = [example['opa'], example['opb'], example['opc'], example['opd']]\n",
        "    correct_option = options[example['cop']]\n",
        "    references.append(correct_option)\n",
        "\n",
        "    prediction = predict3(prompt)\n",
        "    if prediction not in options:\n",
        "      prompt += prediction + \"\\n\\nYour response does not exactly match one of the choices from the list. Do not apologise or include any text other than one of the options from the list verbatim without any label. Here are the options again\\n\\n\" + example['opa'] + \"\\n\\n\" + example['opb'] + \"\\n\\n\" + example['opc'] + \"\\n\\n\" + example['opd']\n",
        "      prediction = predict3(prompt)\n",
        "\n",
        "    predictions.append(prediction)\n",
        "\n",
        "    mismatch_cnt += prediction not in options\n",
        "\n",
        "  exact_match = sum([prediction == reference for prediction, reference, in zip(predictions, references)]) / SAMPLE_CNT\n",
        "  mismatch = mismatch_cnt / SAMPLE_CNT\n",
        "\n",
        "  return exact_match, mismatch\n",
        "\n",
        "exact_match, mismatch = evaluate3()"
      ]
    },
    {
      "cell_type": "code",
      "execution_count": 21,
      "metadata": {},
      "outputs": [
        {
          "name": "stdout",
          "output_type": "stream",
          "text": [
            "exact_match: 0.5213675213675214\n",
            "mismatch: 0.038461538461538464\n"
          ]
        }
      ],
      "source": [
        "print(\"exact_match:\", exact_match)\n",
        "print(\"mismatch:\", mismatch)"
      ]
    },
    {
      "cell_type": "markdown",
      "metadata": {},
      "source": [
        "# query engine 4"
      ]
    },
    {
      "cell_type": "code",
      "execution_count": 32,
      "metadata": {},
      "outputs": [],
      "source": [
        "def predict4(prompt):\n",
        "    return str(query_engine4.query(prompt))\n",
        "\n",
        "def evaluate4():\n",
        "  SAMPLE_CNT = len(dataset_validation)\n",
        "  mismatch_cnt = 0\n",
        "  predictions = []\n",
        "  references = []\n",
        "\n",
        "  for i in range(SAMPLE_CNT):\n",
        "    example = dataset_validation[i]\n",
        "    question, option_a, option_b, option_c, option_d = example[\"question\"], example[\"opa\"], example[\"opb\"], example[\"opc\"], example[\"opd\"]\n",
        "    prompt = f'''{question}\n",
        "\n",
        "{option_a}\n",
        "{option_b}\n",
        "{option_c}\n",
        "{option_d}\n",
        "\n",
        "Respond with the correct choice from the list above verbatim.  Do not include any explanation.'''\n",
        "\n",
        "    options = [example['opa'], example['opb'], example['opc'], example['opd']]\n",
        "    correct_option = options[example['cop']]\n",
        "    references.append(correct_option)\n",
        "\n",
        "    prediction = predict4(prompt)\n",
        "    if prediction not in options:\n",
        "      prompt += prediction + \"\\n\\nYour response does not exactly match one of the choices from the list. Do not apologise or include any text other than one of the options from the list verbatim without any label. Here are the options again\\n\\n\" + example['opa'] + \"\\n\\n\" + example['opb'] + \"\\n\\n\" + example['opc'] + \"\\n\\n\" + example['opd']\n",
        "      prediction = predict4(prompt)\n",
        "\n",
        "    predictions.append(prediction)\n",
        "\n",
        "    mismatch_cnt += prediction not in options\n",
        "\n",
        "  exact_match = sum([prediction == reference for prediction, reference, in zip(predictions, references)]) / SAMPLE_CNT\n",
        "  mismatch = mismatch_cnt / SAMPLE_CNT\n",
        "\n",
        "  return exact_match, mismatch\n",
        "\n",
        "exact_match, mismatch = evaluate4()"
      ]
    },
    {
      "cell_type": "code",
      "execution_count": 33,
      "metadata": {},
      "outputs": [
        {
          "name": "stdout",
          "output_type": "stream",
          "text": [
            "exact_match: 0.5598290598290598\n",
            "mismatch: 0.03418803418803419\n"
          ]
        }
      ],
      "source": [
        "print(\"exact_match:\", exact_match)\n",
        "print(\"mismatch:\", mismatch)"
      ]
    },
    {
      "cell_type": "markdown",
      "metadata": {},
      "source": [
        "# query engine 5"
      ]
    },
    {
      "cell_type": "code",
      "execution_count": 34,
      "metadata": {},
      "outputs": [],
      "source": [
        "def predict5(prompt):\n",
        "    return str(query_engine5.query(prompt))\n",
        "\n",
        "def evaluate5():\n",
        "  SAMPLE_CNT = len(dataset_validation)\n",
        "  mismatch_cnt = 0\n",
        "  predictions = []\n",
        "  references = []\n",
        "\n",
        "  for i in range(SAMPLE_CNT):\n",
        "    example = dataset_validation[i]\n",
        "    question, option_a, option_b, option_c, option_d = example[\"question\"], example[\"opa\"], example[\"opb\"], example[\"opc\"], example[\"opd\"]\n",
        "    prompt = f'''{question}\n",
        "\n",
        "{option_a}\n",
        "{option_b}\n",
        "{option_c}\n",
        "{option_d}\n",
        "\n",
        "Respond with the correct choice from the list above verbatim.  Do not include any explanation.'''\n",
        "\n",
        "    options = [example['opa'], example['opb'], example['opc'], example['opd']]\n",
        "    correct_option = options[example['cop']]\n",
        "    references.append(correct_option)\n",
        "\n",
        "    prediction = predict5(prompt)\n",
        "    if prediction not in options:\n",
        "      prompt += prediction + \"\\n\\nYour response does not exactly match one of the choices from the list. Do not apologise or include any text other than one of the options from the list verbatim without any label. Here are the options again\\n\\n\" + example['opa'] + \"\\n\\n\" + example['opb'] + \"\\n\\n\" + example['opc'] + \"\\n\\n\" + example['opd']\n",
        "      prediction = predict5(prompt)\n",
        "\n",
        "    predictions.append(prediction)\n",
        "\n",
        "    mismatch_cnt += prediction not in options\n",
        "\n",
        "  exact_match = sum([prediction == reference for prediction, reference, in zip(predictions, references)]) / SAMPLE_CNT\n",
        "  mismatch = mismatch_cnt / SAMPLE_CNT\n",
        "\n",
        "  return exact_match, mismatch\n",
        "\n",
        "exact_match, mismatch = evaluate5()"
      ]
    },
    {
      "cell_type": "code",
      "execution_count": 35,
      "metadata": {},
      "outputs": [
        {
          "name": "stdout",
          "output_type": "stream",
          "text": [
            "exact_match: 0.5427350427350427\n",
            "mismatch: 0.021367521367521368\n"
          ]
        }
      ],
      "source": [
        "print(\"exact_match:\", exact_match)\n",
        "print(\"mismatch:\", mismatch)"
      ]
    },
    {
      "cell_type": "markdown",
      "metadata": {},
      "source": [
        "# comparison"
      ]
    },
    {
      "cell_type": "code",
      "execution_count": 27,
      "metadata": {},
      "outputs": [
        {
          "name": "stdout",
          "output_type": "stream",
          "text": [
            "Mental foramen is located:\n",
            "\n",
            "Between roots of premolars\n",
            "Between roots of molars\n",
            "Near canine\n",
            "Between Incisors\n",
            "\n",
            "Respond with the correct choice from the list above verbatim.  Do not include any explanation.\n",
            "[NodeWithScore(node=TextNode(id_='076d3f5c-feda-47a6-afb8-58a1cf62ed8a', embedding=None, metadata={'page_label': '535', 'file_name': 'anatomybook.pdf', 'file_path': 'anatomybook.pdf', 'file_type': 'application/pdf', 'file_size': 52581393, 'creation_date': '2024-05-27', 'last_modified_date': '2024-05-20'}, excluded_embed_metadata_keys=['file_name', 'file_type', 'file_size', 'creation_date', 'last_modified_date', 'last_accessed_date'], excluded_llm_metadata_keys=['file_name', 'file_type', 'file_size', 'creation_date', 'last_modified_date', 'last_accessed_date'], relationships={<NodeRelationship.SOURCE: '1'>: RelatedNodeInfo(node_id='e37fd5a7-da28-4a5e-bfcd-58c204db9f13', node_type=<ObjectType.DOCUMENT: '4'>, metadata={'page_label': '535', 'file_name': 'anatomybook.pdf', 'file_path': 'anatomybook.pdf', 'file_type': 'application/pdf', 'file_size': 52581393, 'creation_date': '2024-05-27', 'last_modified_date': '2024-05-20'}, hash='1aa796d35d6186d0b7ea7226ca45539150f8540a548f892bbba433ee45f2f391')}, text='Chapter 8 Head and Neck  493 8\\nTABLE 8.9  Features of the TMJ\\nLIGAMENT ATTACHMENT COMMENT\\nCapsule Temporal fossa and tubercle to mandibular head Permits side-to-side motion, protrusion, and \\nretraction\\nLateral (TMJ) Temporal to mandible Thickened fibrous band of capsule\\nArticular disc Between temporal bone and mandible Divides joint into two synovial compartments\\nStylomandibular Styloid process to posterior ramus and angle of jaw Limits anterior protrusion of mandible\\nSphenomandibular Spine of sphenoid to lingula of mandible May act as a pivot by providing tension \\nduring opening and closing\\nClinical Focus 8-36 \\nMandibular Fractures\\nBecause of its vulnerable location, the mandible is the second most fractured facial bone, after the nasal bone. \\nThe mandible’s U shape renders it liable to multiple fractures (more than 50%). The most common sites are \\nthe cuspid (canine tooth) area and the third molar area. Oozing blood from the mandible collects in loose \\ntissues of the mouth ﬂoor (ecchymosis) and is virtually pathognomonic of a fracture.\\nThird molar area\\nmay be weakened\\nby partially\\nerupted molar.\\nDistorted\\nsoft tissue contours\\nMalocclusionEcchymosis or \\nlaceration of chin \\n(in children)Anatomy of mandible predisposes\\nit to multiple fractures\\nCondyleSubcondylar\\narea can\\nfracture from\\nblow to chin.\\nCuspid area is\\nweakened by long tooth.Bleeding caused by fracture is trapped by fanlike \\nattachment of mylohyoid musculature to mandible, \\nand presents clinically as ecchymosis in floor of mouth.\\nDisplaced segment\\nStep defectMylohyoid m.\\nDisplaced segment\\nStep defectsBleeding\\nGeniohyoid m.\\nexits the stylomastoid foramen and passes through \\nthe parotid gland to distribute to the muscles of \\nfacial expression ( Fig. 8.15 ). he parotid gland \\nis innervated by secretomotor parasympathetic \\nﬁbers from the glossopharyngeal nerve (CN IX), \\nwhich we will review in the next section (see  \\nFig. 8.72 ).\\nInfratemporal Fossa\\nhe wedge-shaped infratemporal fossa is the space \\ninferior to the zygomatic arch, medial to the mandibular ramus and posterior to the maxilla. \\nCN V 3, the largest division of CN V, exits the \\nforamen ovale,  which is located in the roof of  \\nthe fossa, and its branches in this region include \\nthe following ( Fig. 8.30 ):\\n• Muscular:  small motor nerves to the four \\nmuscles of mastication, and to the tensor veli \\npalatini, mylohyoid, anterior belly of the digastric, \\nand tensor tympani (in middle ear) muscles; \\nembryologically, derived from t he ﬁrst branchial \\narch (see Embryology ).', start_char_idx=0, end_char_idx=2530, text_template='{metadata_str}\\n\\n{content}', metadata_template='{key}: {value}', metadata_seperator='\\n'), score=0.8117217544898743), NodeWithScore(node=TextNode(id_='52a76328-4eb9-43d9-9dff-fc7153b9f776', embedding=None, metadata={'page_label': '534', 'file_name': 'anatomybook.pdf', 'file_path': 'anatomybook.pdf', 'file_type': 'application/pdf', 'file_size': 52581393, 'creation_date': '2024-05-27', 'last_modified_date': '2024-05-20'}, excluded_embed_metadata_keys=['file_name', 'file_type', 'file_size', 'creation_date', 'last_modified_date', 'last_accessed_date'], excluded_llm_metadata_keys=['file_name', 'file_type', 'file_size', 'creation_date', 'last_modified_date', 'last_accessed_date'], relationships={<NodeRelationship.SOURCE: '1'>: RelatedNodeInfo(node_id='93a4d1ce-e6c7-4500-a25e-8b3f1615b142', node_type=<ObjectType.DOCUMENT: '4'>, metadata={'page_label': '534', 'file_name': 'anatomybook.pdf', 'file_path': 'anatomybook.pdf', 'file_type': 'application/pdf', 'file_size': 52581393, 'creation_date': '2024-05-27', 'last_modified_date': '2024-05-20'}, hash='0a736dde5fa133d88ebcdbf4fe7842727246a064dea2fad0c14d05420907c7bd')}, text='492 Chapter 8 Head and Neck\\nCondylar process\\nMandible of adult: left posterior viewMandible of adult: anterolateral superior view\\nCoronoid process\\nMylohyoid groove\\nMylohyoid line\\nMental\\nforamen\\nMental\\nprotuberance\\nMental\\ntubercleCoronoid process\\nHead\\nMylohyoid line\\nBodyAngleRamus\\nSubmandibular fossa\\nBodyAngleRamusHead\\nNeck\\nMandibular notchLingula\\nMandibular foramen \\nCondylar\\nprocess\\nLingula\\nMandibular\\nforamen\\nMylohyoid\\ngroove\\nSublingual fossa\\nSuperior and inferior mental \\nspines (genial tubercles)\\nFIGURE 8.28  Mandible. (From Atlas of human anatomy,  ed 7, Plate 24.)\\nLateral view\\nJoint capsule\\nStyloid process\\nMandibular fossa\\nArticular disc\\nArticular tubercleJaws closed\\nJaws slightly open  (hinge\\naction predominates)Jaws widely opened  (hinge an d\\ngliding actions combined)Lateral\\n(temporomandibular) lig.\\nSphenomandibular lig.\\nSphenomandibular lig.\\n(phantom )Stylomandibular\\nlig.\\nFIGURE 8.29  Temporomandibular Joint. (From Atlas of human anatomy,  ed 7, Plate 25.)', start_char_idx=0, end_char_idx=976, text_template='{metadata_str}\\n\\n{content}', metadata_template='{key}: {value}', metadata_seperator='\\n'), score=0.8114354783947514)]\n",
            "[NodeWithScore(node=TextNode(id_='5d74ada6-9ab6-47b0-8831-43e792615b0f', embedding=None, metadata={'page_label': '328', 'file_name': 'anatomybook2.pdf', 'file_path': 'anatomybook2.pdf', 'file_type': 'application/pdf', 'file_size': 11847333, 'creation_date': '2024-05-29', 'last_modified_date': '2024-05-29'}, excluded_embed_metadata_keys=['file_name', 'file_type', 'file_size', 'creation_date', 'last_modified_date', 'last_accessed_date'], excluded_llm_metadata_keys=['file_name', 'file_type', 'file_size', 'creation_date', 'last_modified_date', 'last_accessed_date'], relationships={<NodeRelationship.SOURCE: '1'>: RelatedNodeInfo(node_id='01c4a0c3-3662-4b17-8f5b-7b13d5e8f905', node_type=<ObjectType.DOCUMENT: '4'>, metadata={'page_label': '328', 'file_name': 'anatomybook2.pdf', 'file_path': 'anatomybook2.pdf', 'file_type': 'application/pdf', 'file_size': 11847333, 'creation_date': '2024-05-29', 'last_modified_date': '2024-05-29'}, hash='1c098e6b17535fc90550affe1ef4a920b0d630a41371ba94777c225a06f7cc02')}, text='Human Anatomy and Physiology \\n318  from buds that are present at bi rth. The first permanent tooth \\nto appear is the important 6-year molar. This permanent tooth \\ncomes in before the baby incisors are lost. Because decay \\nand infection of adjacent deciduous molars may spread to and \\ninvolve new, permanent teeth,  deciduous teeth need proper \\ncare.  \\n \\nPermanent Teeth  \\nAs a child grows, the jawbones grow, making space for \\nadditional teeth. After the 6-year molars have appeared, the \\nbaby incisors loosen and are replaced by permanent incisors. \\nNext, the baby canines (cuspi ds) are replaced by permanent \\ncanines, and finally, the baby molars are replaced by the \\nbicuspids (premolars) of the permanent teeth.  \\n \\nNow the larger jawbones are ready for the appearance of the 12-year, or second, permanent molar teeth. During or after the \\nlate teens, the third molars, or so-called wisdom teeth, may \\nappear. In some cases the jaw is not large enough for these \\nteeth or there are other abnormalit ies, so that the third molars \\nmay have to be removed. Figure 11-5 shows the parts of the \\nmolar.', start_char_idx=0, end_char_idx=1101, text_template='{metadata_str}\\n\\n{content}', metadata_template='{key}: {value}', metadata_seperator='\\n'), score=0.828654147391287), NodeWithScore(node=TextNode(id_='0e07c7d3-6dda-414e-a653-517186222d3a', embedding=None, metadata={'page_label': '327', 'file_name': 'anatomybook2.pdf', 'file_path': 'anatomybook2.pdf', 'file_type': 'application/pdf', 'file_size': 11847333, 'creation_date': '2024-05-29', 'last_modified_date': '2024-05-29'}, excluded_embed_metadata_keys=['file_name', 'file_type', 'file_size', 'creation_date', 'last_modified_date', 'last_accessed_date'], excluded_llm_metadata_keys=['file_name', 'file_type', 'file_size', 'creation_date', 'last_modified_date', 'last_accessed_date'], relationships={<NodeRelationship.SOURCE: '1'>: RelatedNodeInfo(node_id='ec869124-e69e-4e90-9eb4-f833302620c0', node_type=<ObjectType.DOCUMENT: '4'>, metadata={'page_label': '327', 'file_name': 'anatomybook2.pdf', 'file_path': 'anatomybook2.pdf', 'file_type': 'application/pdf', 'file_size': 11847333, 'creation_date': '2024-05-29', 'last_modified_date': '2024-05-29'}, hash='8121f437b16968df2c33a6f06790eb3e53fc9ca3ec8312159de9ed82efd50065')}, text='Human Anatomy and Physiology \\n317   \\n \\n \\n \\n \\n \\n \\n \\n \\n \\n \\n \\n \\n \\n \\n Figure 11-4. The mouth, showing the teeth and tonsils  (Source: Carola, \\nR., Harley,J.P., Noback R.C., (1992), Human anatomy and physiology,  Mc Graw hill inc, New York, 2\\nnd ed,) \\n \\n \\nDeciduous, or Baby Teeth  \\nThe first eight deciduous teeth to appear through the gums \\nare the incisors. Later the canines (eye teeth) and molar \\nappear. Usually, the 20 baby teeth have all appeared by the \\ntime a child has reached the age of 2 or 2 1/2 years. During the \\nfirst 2 years the permanent teeth develop within the jawbones', start_char_idx=0, end_char_idx=585, text_template='{metadata_str}\\n\\n{content}', metadata_template='{key}: {value}', metadata_seperator='\\n'), score=0.8188836620177112)]\n",
            "\n",
            "\n",
            "-----------------\n",
            "\n",
            "\n",
            "Tensor veli palatini origin and insertion are\n",
            "\n",
            "Origin Greater wing of sphenoid and scaphoid fossa; Insertion as palatine aponeurosis into posterior hard palate.\n",
            "Origin Lesser wing of sphenoid and scaphoid fossa;Insertion Hamular notch and opposite muscle of same name\n",
            "Origin Lesser wing of sphenoid and scaphoid fossa; Insertion- Posterior hard palate\n",
            "Origin Lesser wing of sphenoid and scaphoid fossa; Insertion: as palatine aponeurosis into posterior hard palate.\n",
            "\n",
            "Respond with the correct choice from the list above verbatim.  Do not include any explanation.\n",
            "[NodeWithScore(node=TextNode(id_='870403da-c1da-4d0b-8ee9-0b910bb3ddc0', embedding=None, metadata={'page_label': '547', 'file_name': 'anatomybook.pdf', 'file_path': 'anatomybook.pdf', 'file_type': 'application/pdf', 'file_size': 52581393, 'creation_date': '2024-05-27', 'last_modified_date': '2024-05-20'}, excluded_embed_metadata_keys=['file_name', 'file_type', 'file_size', 'creation_date', 'last_modified_date', 'last_accessed_date'], excluded_llm_metadata_keys=['file_name', 'file_type', 'file_size', 'creation_date', 'last_modified_date', 'last_accessed_date'], relationships={<NodeRelationship.SOURCE: '1'>: RelatedNodeInfo(node_id='5e4aa189-9fae-45f1-a325-f3a8389e0434', node_type=<ObjectType.DOCUMENT: '4'>, metadata={'page_label': '547', 'file_name': 'anatomybook.pdf', 'file_path': 'anatomybook.pdf', 'file_type': 'application/pdf', 'file_size': 52581393, 'creation_date': '2024-05-27', 'last_modified_date': '2024-05-20'}, hash='0247d887ac12c5b937a20722d37ba5e74a669b00d8b194c30bbbecda05c9718d')}, text='Chapter 8 Head and Neck  505 8\\nIncisive papilla\\nPalatine raphe\\nPalatine glands\\nMusculus uvulaeIncisive fossa\\nGreater palatine a. and n.\\nGreater palatine foramen\\nLesser palatine a. and nn.\\nPterygoid hamulus\\nBuccinator m.\\nPterygomandibular raphe\\nPalatine tonsilAnterior view\\nTransverse palatine folds\\nPalatine process of \\nmaxillary bone\\nHorizontal plate of palatine bone\\nSuperior pharyngeal constrictor m.Palatine aponeurosis \\n(from tensor veli palatini m.)\\nPalatoglossus m.\\nPalatopharyngeus m.\\nFIGURE 8.43  Oral Cavity With Partial Dissection of Palate. (From Atlas of human anatomy,  ed 7, \\nPlate 67.)\\nMedial pterygoid plate\\nPterygoid hamulus\\nTendon of tensor veli palatini m.\\nMusculus uvulaeChoanae\\nPterygoid hamulusBasilar part of occipital bone\\nSuperior pharyngeal constrictor m. ( cut)Levator veli palatini m. (cut)\\nTensor veli palatini m.\\nLevator veli palatini m. ( cut)Palatopharyngeus m.Levator veli palatini m.\\nFIGURE 8.44  Posterior View of Soft Palate Muscles. (From Atlas of human anatomy,  ed 7, Plate 67.)\\nhe maxillary buccal (side facing the cheek) \\ngingivae (gums) receive sensory innervation by the \\nsame nerves from CN V 2 as the maxillary teeth, \\nbut the lingual (side facing the tongue) gingivae \\nare innervated by the greater palatine and naso-\\npalatine nerves of CN V 2. he mandibular buccal gingivae receive sensory innervation by the buccal \\nand mental nerves from CN V 3 and the lingual \\ngingivae from the lingual nerve (CN V 3).\\nhe blood to the maxillary teeth comes from \\nthe anterior superior alveolar artery (a branch of \\nthe infraorbital branch of the maxillary artery) and', start_char_idx=0, end_char_idx=1602, text_template='{metadata_str}\\n\\n{content}', metadata_template='{key}: {value}', metadata_seperator='\\n'), score=0.8507062763625532), NodeWithScore(node=TextNode(id_='1fafc5cd-6ef8-4426-99d8-96a125b5ec7a', embedding=None, metadata={'page_label': '548', 'file_name': 'anatomybook.pdf', 'file_path': 'anatomybook.pdf', 'file_type': 'application/pdf', 'file_size': 52581393, 'creation_date': '2024-05-27', 'last_modified_date': '2024-05-20'}, excluded_embed_metadata_keys=['file_name', 'file_type', 'file_size', 'creation_date', 'last_modified_date', 'last_accessed_date'], excluded_llm_metadata_keys=['file_name', 'file_type', 'file_size', 'creation_date', 'last_modified_date', 'last_accessed_date'], relationships={<NodeRelationship.SOURCE: '1'>: RelatedNodeInfo(node_id='13e681cd-dd59-47c4-8c21-714147486233', node_type=<ObjectType.DOCUMENT: '4'>, metadata={'page_label': '548', 'file_name': 'anatomybook.pdf', 'file_path': 'anatomybook.pdf', 'file_type': 'application/pdf', 'file_size': 52581393, 'creation_date': '2024-05-27', 'last_modified_date': '2024-05-20'}, hash='cdf98865818c942a99d69c87045b2e5747911f44075d85419ecfcfc676eeef25')}, text='506 Chapter 8 Head and Neck\\nas landmarks by anatomists and physicians operating \\nin this area . he neck is a vertical conduit for \\nstructures entering or leaving the head. It is tightly \\nbound in several fascial layers that divide the neck \\ninto descriptive compartments. he two major \\ntriangles of the neck are as follows ( Fig. 8.46 ):\\n• Posterior Triangle:  bounded by the posterior \\nborder of the sternocleidomastoid muscle (SCM), \\nanterior border of the trapezius muscle, and \\nmiddle third of the clavicle.\\n• Anterior Triangle:  bounded by the anterior \\nborder of the SCM, inferior border of mandible, posterior superior alveolar artery (a branch of the \\nmaxillary artery). he blood supply to the man-\\ndibular teeth comes from the inferior alveolar artery \\n(branch of the maxillary artery). he venous drain -\\nage is from corresponding veins, most of which \\ndrain into the pterygoid plexus of veins in the \\ninfratemporal fossa.\\n11.  NECK\\nhe neck is divided descriptively into two major \\ntriangles. Each triangle contains key structures used \\nIncisive fossa Central incisor s\\nLateral incisor s\\nCanines\\n1st premolar s\\n2nd premolars\\n1st molars\\n2nd molars\\n3rd molar s\\nUpper permanent teeth Lower permanent teethPalatine process\\nof maxillary bone\\nHorizontal plate\\nof palatine bone\\nGreater and lesser\\npalatine foramina\\nFIGURE 8.45  Teeth. (From Atlas of human anatomy,  ed 7, Plate 73.)\\nTABLE 8.12  Muscles of the Soft Palate\\nMUSCLESUPERIOR \\nATTACHMENT \\n(ORIGIN)INFERIOR \\nATTACHMENT \\n(INSERTION) INNERVATION MAIN ACTIONS\\nLevator veli palatini Auditory tube and \\ntemporal bonePalatine aponeurosis Vagus nerve via \\npharyngeal plexusElevates soft palate during \\nswallowing\\nTensor veli palatini Scaphoid fossa of \\nmedial pterygoid plate, \\nspine of sphenoid, and \\nauditory tubePalatine aponeurosis Mandibular nerve Tenses soft palate and \\nopens auditory tube \\nduring swallowing and \\nyawning\\nPalatoglossus Palatine aponeurosis of \\nsoft palateSide of tongue Vagus nerve via \\npharyngeal plexusElevates posterior tongue, \\ndepresses palate\\nPalatopharyngeus Hard palate and palatine \\naponeurosisLateral wall of \\npharynxVagus nerve via \\npharyngeal plexusTenses soft palate; \\npulls walls of pharynx \\nsuperiorly, anteriorly, \\nand medially during \\nswallowing\\nMusculus uvulae Nasal spine and palatine \\naponeurosisMucosa of uvula Vagus nerve via \\npharyngeal plexusShortens, elevates, and \\nretracts uvula', start_char_idx=0, end_char_idx=2384, text_template='{metadata_str}\\n\\n{content}', metadata_template='{key}: {value}', metadata_seperator='\\n'), score=0.8324331345407205)]\n",
            "[NodeWithScore(node=TextNode(id_='c1989c3d-2761-44e3-b388-00a7b71f1632', embedding=None, metadata={'page_label': '547', 'file_name': 'anatomybook.pdf', 'file_path': 'anatomybook.pdf', 'file_type': 'application/pdf', 'file_size': 52581393, 'creation_date': '2024-05-27', 'last_modified_date': '2024-05-20'}, excluded_embed_metadata_keys=['file_name', 'file_type', 'file_size', 'creation_date', 'last_modified_date', 'last_accessed_date'], excluded_llm_metadata_keys=['file_name', 'file_type', 'file_size', 'creation_date', 'last_modified_date', 'last_accessed_date'], relationships={<NodeRelationship.SOURCE: '1'>: RelatedNodeInfo(node_id='2debdd0d-d822-4ade-a29e-045658ec875c', node_type=<ObjectType.DOCUMENT: '4'>, metadata={'page_label': '547', 'file_name': 'anatomybook.pdf', 'file_path': 'anatomybook.pdf', 'file_type': 'application/pdf', 'file_size': 52581393, 'creation_date': '2024-05-27', 'last_modified_date': '2024-05-20'}, hash='0247d887ac12c5b937a20722d37ba5e74a669b00d8b194c30bbbecda05c9718d')}, text='Chapter 8 Head and Neck  505 8\\nIncisive papilla\\nPalatine raphe\\nPalatine glands\\nMusculus uvulaeIncisive fossa\\nGreater palatine a. and n.\\nGreater palatine foramen\\nLesser palatine a. and nn.\\nPterygoid hamulus\\nBuccinator m.\\nPterygomandibular raphe\\nPalatine tonsilAnterior view\\nTransverse palatine folds\\nPalatine process of \\nmaxillary bone\\nHorizontal plate of palatine bone\\nSuperior pharyngeal constrictor m.Palatine aponeurosis \\n(from tensor veli palatini m.)\\nPalatoglossus m.\\nPalatopharyngeus m.\\nFIGURE 8.43  Oral Cavity With Partial Dissection of Palate. (From Atlas of human anatomy,  ed 7, \\nPlate 67.)\\nMedial pterygoid plate\\nPterygoid hamulus\\nTendon of tensor veli palatini m.\\nMusculus uvulaeChoanae\\nPterygoid hamulusBasilar part of occipital bone\\nSuperior pharyngeal constrictor m. ( cut)Levator veli palatini m. (cut)\\nTensor veli palatini m.\\nLevator veli palatini m. ( cut)Palatopharyngeus m.Levator veli palatini m.\\nFIGURE 8.44  Posterior View of Soft Palate Muscles. (From Atlas of human anatomy,  ed 7, Plate 67.)\\nhe maxillary buccal (side facing the cheek) \\ngingivae (gums) receive sensory innervation by the \\nsame nerves from CN V 2 as the maxillary teeth, \\nbut the lingual (side facing the tongue) gingivae \\nare innervated by the greater palatine and naso-\\npalatine nerves of CN V 2. he mandibular buccal gingivae receive sensory innervation by the buccal \\nand mental nerves from CN V 3 and the lingual \\ngingivae from the lingual nerve (CN V 3).\\nhe blood to the maxillary teeth comes from \\nthe anterior superior alveolar artery (a branch of \\nthe infraorbital branch of the maxillary artery) and', start_char_idx=0, end_char_idx=1602, text_template='{metadata_str}\\n\\n{content}', metadata_template='{key}: {value}', metadata_seperator='\\n'), score=0.8482670939446395), NodeWithScore(node=TextNode(id_='78963359-9d2b-4358-b9d1-30bb7b921773', embedding=None, metadata={'page_label': '548', 'file_name': 'anatomybook.pdf', 'file_path': 'anatomybook.pdf', 'file_type': 'application/pdf', 'file_size': 52581393, 'creation_date': '2024-05-27', 'last_modified_date': '2024-05-20'}, excluded_embed_metadata_keys=['file_name', 'file_type', 'file_size', 'creation_date', 'last_modified_date', 'last_accessed_date'], excluded_llm_metadata_keys=['file_name', 'file_type', 'file_size', 'creation_date', 'last_modified_date', 'last_accessed_date'], relationships={<NodeRelationship.SOURCE: '1'>: RelatedNodeInfo(node_id='5460335e-acf9-4715-82b0-2dd08dc863c3', node_type=<ObjectType.DOCUMENT: '4'>, metadata={'page_label': '548', 'file_name': 'anatomybook.pdf', 'file_path': 'anatomybook.pdf', 'file_type': 'application/pdf', 'file_size': 52581393, 'creation_date': '2024-05-27', 'last_modified_date': '2024-05-20'}, hash='cdf98865818c942a99d69c87045b2e5747911f44075d85419ecfcfc676eeef25')}, text='506 Chapter 8 Head and Neck\\nas landmarks by anatomists and physicians operating \\nin this area . he neck is a vertical conduit for \\nstructures entering or leaving the head. It is tightly \\nbound in several fascial layers that divide the neck \\ninto descriptive compartments. he two major \\ntriangles of the neck are as follows ( Fig. 8.46 ):\\n• Posterior Triangle:  bounded by the posterior \\nborder of the sternocleidomastoid muscle (SCM), \\nanterior border of the trapezius muscle, and \\nmiddle third of the clavicle.\\n• Anterior Triangle:  bounded by the anterior \\nborder of the SCM, inferior border of mandible, posterior superior alveolar artery (a branch of the \\nmaxillary artery). he blood supply to the man-\\ndibular teeth comes from the inferior alveolar artery \\n(branch of the maxillary artery). he venous drain -\\nage is from corresponding veins, most of which \\ndrain into the pterygoid plexus of veins in the \\ninfratemporal fossa.\\n11.  NECK\\nhe neck is divided descriptively into two major \\ntriangles. Each triangle contains key structures used \\nIncisive fossa Central incisor s\\nLateral incisor s\\nCanines\\n1st premolar s\\n2nd premolars\\n1st molars\\n2nd molars\\n3rd molar s\\nUpper permanent teeth Lower permanent teethPalatine process\\nof maxillary bone\\nHorizontal plate\\nof palatine bone\\nGreater and lesser\\npalatine foramina\\nFIGURE 8.45  Teeth. (From Atlas of human anatomy,  ed 7, Plate 73.)\\nTABLE 8.12  Muscles of the Soft Palate\\nMUSCLESUPERIOR \\nATTACHMENT \\n(ORIGIN)INFERIOR \\nATTACHMENT \\n(INSERTION) INNERVATION MAIN ACTIONS\\nLevator veli palatini Auditory tube and \\ntemporal bonePalatine aponeurosis Vagus nerve via \\npharyngeal plexusElevates soft palate during \\nswallowing\\nTensor veli palatini Scaphoid fossa of \\nmedial pterygoid plate, \\nspine of sphenoid, and \\nauditory tubePalatine aponeurosis Mandibular nerve Tenses soft palate and \\nopens auditory tube \\nduring swallowing and \\nyawning\\nPalatoglossus Palatine aponeurosis of \\nsoft palateSide of tongue Vagus nerve via \\npharyngeal plexusElevates posterior tongue, \\ndepresses palate\\nPalatopharyngeus Hard palate and palatine \\naponeurosisLateral wall of \\npharynxVagus nerve via \\npharyngeal plexusTenses soft palate; \\npulls walls of pharynx \\nsuperiorly, anteriorly, \\nand medially during \\nswallowing\\nMusculus uvulae Nasal spine and palatine \\naponeurosisMucosa of uvula Vagus nerve via \\npharyngeal plexusShortens, elevates, and \\nretracts uvula', start_char_idx=0, end_char_idx=2384, text_template='{metadata_str}\\n\\n{content}', metadata_template='{key}: {value}', metadata_seperator='\\n'), score=0.8329886166130497)]\n",
            "\n",
            "\n",
            "-----------------\n",
            "\n",
            "\n",
            "Asseion - Distal pole of scaphoid goes to avascular necrosis after scaphoid fracture.Reason- Blood supply of scaphoid is from distal to proximal.\n",
            "\n",
            "Asseion is true but reason is false\n",
            "Both asseion reason are true and reason explains asseion\n",
            "Both asseion and reason are false\n",
            "Reason is true but asseion is false\n",
            "\n",
            "Respond with the correct choice from the list above verbatim.  Do not include any explanation.Both assertion and reason are false\n",
            "\n",
            "Your response does not exactly match one of the choices from the list. Do not apologise or include any text other than one of the options from the list verbatim without any label. Here are the options again\n",
            "\n",
            "Asseion is true but reason is false\n",
            "\n",
            "Both asseion reason are true and reason explains asseion\n",
            "\n",
            "Both asseion and reason are false\n",
            "\n",
            "Reason is true but asseion is false\n",
            "[NodeWithScore(node=TextNode(id_='96a55121-e331-4bd2-868c-cf86e1824e49', embedding=None, metadata={'page_label': '449', 'file_name': 'anatomybook.pdf', 'file_path': 'anatomybook.pdf', 'file_type': 'application/pdf', 'file_size': 52581393, 'creation_date': '2024-05-27', 'last_modified_date': '2024-05-20'}, excluded_embed_metadata_keys=['file_name', 'file_type', 'file_size', 'creation_date', 'last_modified_date', 'last_accessed_date'], excluded_llm_metadata_keys=['file_name', 'file_type', 'file_size', 'creation_date', 'last_modified_date', 'last_accessed_date'], relationships={<NodeRelationship.SOURCE: '1'>: RelatedNodeInfo(node_id='4aa9e299-2c76-4f1a-b123-73d2a73e1c0c', node_type=<ObjectType.DOCUMENT: '4'>, metadata={'page_label': '449', 'file_name': 'anatomybook.pdf', 'file_path': 'anatomybook.pdf', 'file_type': 'application/pdf', 'file_size': 52581393, 'creation_date': '2024-05-27', 'last_modified_date': '2024-05-20'}, hash='b4c452e7baba57a0c7d6d0e6043caef3ebbe67653ccd2d87c04a7013bb77fd16')}, text='410 Chapter 7 Upper Limb\\nClinical Focus 7-17 \\nFracture of the Scaphoid\\nThe scaphoid bone is the most frequently fractured carpal bone and may be injured by falling on an extended \\nwrist. Fracture of the middle third (waist) of the bone is most common. Pain and swelling in the “anatomical \\nsnuffbox” often occurs, and optimal healing depends on an adequate blood supply from the palmar carpal \\nbranch of the radial artery. Loss of the blood supply can lead to nonunion or avascular osteonecrosis.\\nLunateScaphoid (fractured)\\nTrapezium\\nTrapezoid\\nTriquetrum\\nPisiform\\nHamulus (hook) of hamate\\nBecause nutrient arteries only\\nenter distal half of scaphoid,\\nfracture often results in osteonecrosis\\nof proximal fragment.Fracture of middle third (waist)\\nof scaphoid (most common)Clinical findings: pain, tenderness,\\nand swelling in anatomical snuffboxUsually caused by fall on outstretched hand with\\nimpact on thenar eminence\\nClinical Focus 7-18 \\nAllen’s Test\\nThe Allen’s test is used to test the vascular perfusion distal to the wrist. The physician lightly places the \\nthumbs on the patient’s ulnar and radial arteries, and the patient makes a tight ﬁst to “blanch” the palmar \\nskin (squeeze the blood into the dorsal venous network). Then, while compressing the radial artery with the \\nthumb, the physician releases the pressure on the ulnar artery and asks the patient to open the clenched ﬁst. \\nNormally the skin will turn pink immediately, indicating normal ulnar artery blood ﬂow through the anastomotic \\npalmar arches. The test is then repeated by occluding the ulnar artery to assess radial artery ﬂow.\\nClenched \\nblanched \\npalm\\nUlnar artery\\noccludedUlnar artery\\nreleased and \\npatentRadial artery\\noccludedRadial artery\\noccluded', start_char_idx=0, end_char_idx=1726, text_template='{metadata_str}\\n\\n{content}', metadata_template='{key}: {value}', metadata_seperator='\\n'), score=0.8370925471546192), NodeWithScore(node=TextNode(id_='888ea5c3-9680-4230-a19e-c79eac3eea60', embedding=None, metadata={'page_label': '443', 'file_name': 'anatomybook.pdf', 'file_path': 'anatomybook.pdf', 'file_type': 'application/pdf', 'file_size': 52581393, 'creation_date': '2024-05-27', 'last_modified_date': '2024-05-20'}, excluded_embed_metadata_keys=['file_name', 'file_type', 'file_size', 'creation_date', 'last_modified_date', 'last_accessed_date'], excluded_llm_metadata_keys=['file_name', 'file_type', 'file_size', 'creation_date', 'last_modified_date', 'last_accessed_date'], relationships={<NodeRelationship.SOURCE: '1'>: RelatedNodeInfo(node_id='f5b66dfb-8e34-4094-9e86-d56d2331e1c0', node_type=<ObjectType.DOCUMENT: '4'>, metadata={'page_label': '443', 'file_name': 'anatomybook.pdf', 'file_path': 'anatomybook.pdf', 'file_type': 'application/pdf', 'file_size': 52581393, 'creation_date': '2024-05-27', 'last_modified_date': '2024-05-20'}, hash='7e4241c6012adaf49748cbbc9bd338a8f711f49863c87a8243b34168212ca311')}, text='404 Chapter 7 Upper Limb\\nClinical Focus 7-14 \\nFracture of the Ulnar Shaft\\nUsually, a direct blow to or forced pronation of the forearm is the most common cause of a fracture of the \\nshaft of the ulna. Fracture of the ulna with dislocation of the proximal radioulnar joint is termed a Monteggia \\nfracture.  The radial head usually dislocates anteriorly, but posterior, medial, or lateral dislocation also may \\noccur. Such dislocations may put the posterior interosseous nerve (the deep branch of the radial nerve) at risk.\\nAnconeus m.Anular lig. ( sutured )\\nExtensor carpi ulnaris m.\\nRadius\\nSupinator m. ( incised )Ulna\\nPreoperative radiograph shows anterior Monteggia fractureIf dislocation of radial head does not reduce easily\\nor joint remains unstable after reduction, open\\nreduction and repair of anular ligament needed.Fractures of proximal ulna often characterized by\\nanterior angulation of ulna and anterior dislocation\\nof radial head (Monteggia fracture)\\nClinical Focus 7-15 \\nDistal Radial (Colles’) Fracture\\nFractures of the distal radius account for about 80% of forearm fractures in all age groups and often result \\nfrom a fall on an outstretched hand. Colles’ fracture is an extension-compression fracture of the distal radius \\nthat produces a typical “dinner fork” deformity.\\nMost commonly results\\nfrom fall on outstretched\\nextended hand\\nLateral view of Colles‘ fracture demonstrates characteristic dinne r\\nfork deformity with dorsal and proximal displacement of distal\\nfragment. Note dorsal instead of normal volar slope of articular\\nsurface of distal radius.\\nDorsal view shows radial deviation of hand with\\nulnar prominence of styloid process of ulna.', start_char_idx=0, end_char_idx=1666, text_template='{metadata_str}\\n\\n{content}', metadata_template='{key}: {value}', metadata_seperator='\\n'), score=0.8149621144555731)]\n",
            "[NodeWithScore(node=TextNode(id_='96b87a1e-ddd3-4413-96c7-b24dccf1ba33', embedding=None, metadata={'page_label': '449', 'file_name': 'anatomybook.pdf', 'file_path': 'anatomybook.pdf', 'file_type': 'application/pdf', 'file_size': 52581393, 'creation_date': '2024-05-27', 'last_modified_date': '2024-05-20'}, excluded_embed_metadata_keys=['file_name', 'file_type', 'file_size', 'creation_date', 'last_modified_date', 'last_accessed_date'], excluded_llm_metadata_keys=['file_name', 'file_type', 'file_size', 'creation_date', 'last_modified_date', 'last_accessed_date'], relationships={<NodeRelationship.SOURCE: '1'>: RelatedNodeInfo(node_id='09dbdefb-fe4a-4c86-8304-55fe2a9741c8', node_type=<ObjectType.DOCUMENT: '4'>, metadata={'page_label': '449', 'file_name': 'anatomybook.pdf', 'file_path': 'anatomybook.pdf', 'file_type': 'application/pdf', 'file_size': 52581393, 'creation_date': '2024-05-27', 'last_modified_date': '2024-05-20'}, hash='b4c452e7baba57a0c7d6d0e6043caef3ebbe67653ccd2d87c04a7013bb77fd16')}, text='410 Chapter 7 Upper Limb\\nClinical Focus 7-17 \\nFracture of the Scaphoid\\nThe scaphoid bone is the most frequently fractured carpal bone and may be injured by falling on an extended \\nwrist. Fracture of the middle third (waist) of the bone is most common. Pain and swelling in the “anatomical \\nsnuffbox” often occurs, and optimal healing depends on an adequate blood supply from the palmar carpal \\nbranch of the radial artery. Loss of the blood supply can lead to nonunion or avascular osteonecrosis.\\nLunateScaphoid (fractured)\\nTrapezium\\nTrapezoid\\nTriquetrum\\nPisiform\\nHamulus (hook) of hamate\\nBecause nutrient arteries only\\nenter distal half of scaphoid,\\nfracture often results in osteonecrosis\\nof proximal fragment.Fracture of middle third (waist)\\nof scaphoid (most common)Clinical findings: pain, tenderness,\\nand swelling in anatomical snuffboxUsually caused by fall on outstretched hand with\\nimpact on thenar eminence\\nClinical Focus 7-18 \\nAllen’s Test\\nThe Allen’s test is used to test the vascular perfusion distal to the wrist. The physician lightly places the \\nthumbs on the patient’s ulnar and radial arteries, and the patient makes a tight ﬁst to “blanch” the palmar \\nskin (squeeze the blood into the dorsal venous network). Then, while compressing the radial artery with the \\nthumb, the physician releases the pressure on the ulnar artery and asks the patient to open the clenched ﬁst. \\nNormally the skin will turn pink immediately, indicating normal ulnar artery blood ﬂow through the anastomotic \\npalmar arches. The test is then repeated by occluding the ulnar artery to assess radial artery ﬂow.\\nClenched \\nblanched \\npalm\\nUlnar artery\\noccludedUlnar artery\\nreleased and \\npatentRadial artery\\noccludedRadial artery\\noccluded', start_char_idx=0, end_char_idx=1726, text_template='{metadata_str}\\n\\n{content}', metadata_template='{key}: {value}', metadata_seperator='\\n'), score=0.8279325592159087), NodeWithScore(node=TextNode(id_='cd227a88-61e9-475d-b016-22054de5c1fa', embedding=None, metadata={'page_label': '68', 'file_name': 'anatomybook3.pdf', 'file_path': 'anatomybook3.pdf', 'file_type': 'application/pdf', 'file_size': 33282046, 'creation_date': '2024-05-29', 'last_modified_date': '2024-05-29'}, excluded_embed_metadata_keys=['file_name', 'file_type', 'file_size', 'creation_date', 'last_modified_date', 'last_accessed_date'], excluded_llm_metadata_keys=['file_name', 'file_type', 'file_size', 'creation_date', 'last_modified_date', 'last_accessed_date'], relationships={<NodeRelationship.SOURCE: '1'>: RelatedNodeInfo(node_id='8205898b-0954-4650-8dfa-989d00ac0b0f', node_type=<ObjectType.DOCUMENT: '4'>, metadata={'page_label': '68', 'file_name': 'anatomybook3.pdf', 'file_path': 'anatomybook3.pdf', 'file_type': 'application/pdf', 'file_size': 33282046, 'creation_date': '2024-05-29', 'last_modified_date': '2024-05-29'}, hash='8b68c51f2e8cff1cf299b3fe780cec22f5a87d9624ddda0edef9f59b3f126c64'), <NodeRelationship.PREVIOUS: '2'>: RelatedNodeInfo(node_id='9cc8eac0-f432-49c6-80cb-6ee360bbdbe0', node_type=<ObjectType.TEXT: '1'>, metadata={'page_label': '68', 'file_name': 'anatomybook3.pdf', 'file_path': 'anatomybook3.pdf', 'file_type': 'application/pdf', 'file_size': 33282046, 'creation_date': '2024-05-29', 'last_modified_date': '2024-05-29'}, hash='da62f9274a61b53393e4a8ddf66009daaa3b2d2ba9f4755032bfb2645d6f4494')}, text='The distal end of the radius articulates medially \\nwith the ulna ( ulnar notch ) and distally with the \\nlateral two carpal bones —the scaphoid and lu -\\nnate of the proximal row. This forms the only di -\\nrect articulation of the carpal bones with the bones \\nof the forearm. Forces transmitted from the hand \\nto the forearm pass through the scaphoid and lu -\\nnate to the radius—a feature which accounts for \\nthe fracture of the scaphoid or radius (but not the \\nulna) from falling on the outstretched hand.\\nThe dorsal surfaces of both rows of carpal bones \\ncan be felt through the tendons which cover \\nthem, though the individual bones cannot be de -\\nﬁned. On the palmar surface of the wrist, only the \\npisiform bone  (medially) and the tubercle of \\nthe scaphoid  (laterally) can be felt at the level of Fig. 5.6  Dorsal aspect of bones of the right hand.\\nDistal\\nphalanx\\nMiddle\\nphalanx\\nProximal\\nphalanx\\n5th metacarpal\\n1st metacarpal\\nTrapezoid\\nHamate\\nCapitate\\nTriquetrum\\nLunate\\nScaphoid Trapezium\\nmebooksfree.com', start_char_idx=2908, end_char_idx=3916, text_template='{metadata_str}\\n\\n{content}', metadata_template='{key}: {value}', metadata_seperator='\\n'), score=0.8164585139119113)]\n",
            "\n",
            "\n",
            "-----------------\n",
            "\n",
            "\n",
            "The middle meningeal artery is associated with which foramen:\n",
            "\n",
            "Ovale\n",
            "Rotundum\n",
            "Stylomastoid\n",
            "Spinosum\n",
            "\n",
            "Respond with the correct choice from the list above verbatim.  Do not include any explanation.\n",
            "[NodeWithScore(node=TextNode(id_='066ebbd0-2360-4ffb-9351-0bcaad55cbfe', embedding=None, metadata={'page_label': '485', 'file_name': 'anatomybook.pdf', 'file_path': 'anatomybook.pdf', 'file_type': 'application/pdf', 'file_size': 52581393, 'creation_date': '2024-05-27', 'last_modified_date': '2024-05-20'}, excluded_embed_metadata_keys=['file_name', 'file_type', 'file_size', 'creation_date', 'last_modified_date', 'last_accessed_date'], excluded_llm_metadata_keys=['file_name', 'file_type', 'file_size', 'creation_date', 'last_modified_date', 'last_accessed_date'], relationships={<NodeRelationship.SOURCE: '1'>: RelatedNodeInfo(node_id='e71b4f32-0811-410a-9f3a-9d759d341420', node_type=<ObjectType.DOCUMENT: '4'>, metadata={'page_label': '485', 'file_name': 'anatomybook.pdf', 'file_path': 'anatomybook.pdf', 'file_type': 'application/pdf', 'file_size': 52581393, 'creation_date': '2024-05-27', 'last_modified_date': '2024-05-20'}, hash='fefaa6bf2176d36d36faab0191714072443b049a9cc161a60f0c6529849de935')}, text='Chapter 8 Head and Neck  443 8\\nartery branches can be seen as depressions on the \\ninner table of b one. his periosteal dura mater is \\ncontinuous with the periosteum on the outer surface \\nof the skull at the foramen magnum and where \\nother intracranial foramina open onto the outer \\nskull surface. he inner dural layer is termed the \\nmeningeal layer  and is in close contact with the \\nunderlying arachnoid mater and is continuous with \\nthe spinal dura mater at the level of the foramen \\nmagnum.\\nhe dura mater is richly innervated by meningeal \\nsensory branches of the trigeminal ner ve (ﬁfth space  and contains cerebrospinal ﬂuid, which \\nbathes and protects the central nervous system \\n(CNS).\\n• Pia mater:  delicate membrane of connective \\ntissue that intimately envelops the brain and \\nspinal cord.\\nhe cranial dura mater is distinguished from \\nthe dura mater covering the spinal cord by its two \\nlayers. An outer periosteal layer  is attached to the \\ninner aspect of the cranium and is supplied by the \\nmeningeal arteries, which lie on its surface between \\nit and the bony skull. Imprints of these meningeal \\nForamen cecum\\nAnterior ethmoidal foramen\\nForamina of cribriform plate\\nPosterior ethmoidal foramen\\nOptic canal\\nSuperior orbital fissure\\nForamen rotundum\\nForamen ovale\\nForamen spinosum\\nForamen lacerum\\nHiatus for\\nHiatus for\\nInternal acoustic meatus\\nJugular foramen\\nHypoglossal canal\\nForamen magnumEmissary v. to superior sagittal sinus\\nAnterior ethmoidal a., v., and n.\\nOlfactory n. (CN I)\\nPosterior ethmoidal a., v., and n.\\nOptic n. (CN II)\\nOphthalmic a.\\nMaxillary n. (CN V2)\\nLesser petrosal n. (CN IX)\\nGreater petrosal n. (CN VII)\\nHypoglossal n. (CN XII)Oculomotor n. (CN III)\\nTrochlear n. (CN IV)\\nLacrimal, frontal, and nasociliary branches of ophthalmic n. (CN V1)\\nAbducens n. (CN VI)\\nSuperior ophthalmic v.\\nMandibular n. (CN V3)\\nAccessory meningeal a.\\nLesser petrosal n.\\nMiddle meningeal a. and v.\\nMeningeal branch of mandibular n.\\nMedulla oblongata\\nMeninges\\nVertebral aa. and venous plexus\\nMeningeal branches of vertebral aa.\\nSpinal roots of accessory nn. (CN XI)Inferior petrosal sinus\\nGlossopharyngeal n. (CN IX)\\nVagus n. (CN X)\\nAccessory n. (CN XI)\\nSigmoid sinus\\nPosterior meningeal a.Facial n. (CN VII)\\nVestibulocochlear n. (CN VIII)\\nLabyrinthine a.Internal carotid a.\\nInternal carotid n. plexusCarotid canal for\\nFIGURE 8.4  Superior Aspect of Cranial Base (Cranial Fossae). (From Atlas of human anatomy,  ed 7, \\nPlate 20.)', start_char_idx=0, end_char_idx=2440, text_template='{metadata_str}\\n\\n{content}', metadata_template='{key}: {value}', metadata_seperator='\\n'), score=0.856231492955162), NodeWithScore(node=TextNode(id_='fcb46c19-93f0-40d8-a8ac-2cea1796b9c8', embedding=None, metadata={'page_label': '527', 'file_name': 'anatomybook.pdf', 'file_path': 'anatomybook.pdf', 'file_type': 'application/pdf', 'file_size': 52581393, 'creation_date': '2024-05-27', 'last_modified_date': '2024-05-20'}, excluded_embed_metadata_keys=['file_name', 'file_type', 'file_size', 'creation_date', 'last_modified_date', 'last_accessed_date'], excluded_llm_metadata_keys=['file_name', 'file_type', 'file_size', 'creation_date', 'last_modified_date', 'last_accessed_date'], relationships={<NodeRelationship.SOURCE: '1'>: RelatedNodeInfo(node_id='4b4e02a6-fb01-403f-ae7c-a3e9db5d7ffc', node_type=<ObjectType.DOCUMENT: '4'>, metadata={'page_label': '527', 'file_name': 'anatomybook.pdf', 'file_path': 'anatomybook.pdf', 'file_type': 'application/pdf', 'file_size': 52581393, 'creation_date': '2024-05-27', 'last_modified_date': '2024-05-20'}, hash='72f76ef019ef8ee02d492002238301c6cf1835ea75f4b104a5aab169777afbb6')}, text='Chapter 8 Head and Neck  485 8\\nStylomastoid arteryStapedial branch of\\nstylomastoid \\nartery\\nFacial\\nnerve\\n(CN VII)\\nExternal carotid arteryStapedius muscle\\nInferior tympanic artery and nerveMaxillary arteryMiddle\\nmeningeal arteryAccessory branch\\nof middle\\nmeningeal arteryOtic ganglionArtery\\nand \\nnerve of \\npterygoid \\ncanalSuperficial petrosal \\nartery and greater \\npetrosal nerve\\nDeep\\nauricular \\narteryChorda\\ntympaniFacial nerve and\\nintermediate nerve\\nCaroticotympanic  \\nartery and nerve Tympanic plexusTensor tympani muscle\\nInternal carotid artery \\nand carotid plexusInternal jugular veinAnterior tympanic \\narteryLesser petrosal nerve\\nand superior tympanic \\narteryStapedial branch \\nof stylomastoid artery\\nFacial nerve (CN VII)Chorda tympani \\nTensor tympani muscle \\nand tendon (cut)Mastoid antrum\\nMastoid cellsAnterior tympanic arteryPyramidal eminence ( cut)\\nAuditory \\n(eustachian) tube\\nStyloid processHandle of malleus\\nTympanic membrane\\nStapesMembranous wall\\nLabyrinthine wall\\nFIGURE 8.25  Walls of Right Middle Ear. (From Atlas of human anatomy,  ed 7, Plate 107.)', start_char_idx=0, end_char_idx=1064, text_template='{metadata_str}\\n\\n{content}', metadata_template='{key}: {value}', metadata_seperator='\\n'), score=0.845993063165588)]\n",
            "[NodeWithScore(node=TextNode(id_='036c2201-d6cc-47ba-aba3-67386e109737', embedding=None, metadata={'page_label': '485', 'file_name': 'anatomybook.pdf', 'file_path': 'anatomybook.pdf', 'file_type': 'application/pdf', 'file_size': 52581393, 'creation_date': '2024-05-27', 'last_modified_date': '2024-05-20'}, excluded_embed_metadata_keys=['file_name', 'file_type', 'file_size', 'creation_date', 'last_modified_date', 'last_accessed_date'], excluded_llm_metadata_keys=['file_name', 'file_type', 'file_size', 'creation_date', 'last_modified_date', 'last_accessed_date'], relationships={<NodeRelationship.SOURCE: '1'>: RelatedNodeInfo(node_id='e0792ed0-252c-48f6-a09d-eb4b4f7d549d', node_type=<ObjectType.DOCUMENT: '4'>, metadata={'page_label': '485', 'file_name': 'anatomybook.pdf', 'file_path': 'anatomybook.pdf', 'file_type': 'application/pdf', 'file_size': 52581393, 'creation_date': '2024-05-27', 'last_modified_date': '2024-05-20'}, hash='fefaa6bf2176d36d36faab0191714072443b049a9cc161a60f0c6529849de935')}, text='Chapter 8 Head and Neck  443 8\\nartery branches can be seen as depressions on the \\ninner table of b one. his periosteal dura mater is \\ncontinuous with the periosteum on the outer surface \\nof the skull at the foramen magnum and where \\nother intracranial foramina open onto the outer \\nskull surface. he inner dural layer is termed the \\nmeningeal layer  and is in close contact with the \\nunderlying arachnoid mater and is continuous with \\nthe spinal dura mater at the level of the foramen \\nmagnum.\\nhe dura mater is richly innervated by meningeal \\nsensory branches of the trigeminal ner ve (ﬁfth space  and contains cerebrospinal ﬂuid, which \\nbathes and protects the central nervous system \\n(CNS).\\n• Pia mater:  delicate membrane of connective \\ntissue that intimately envelops the brain and \\nspinal cord.\\nhe cranial dura mater is distinguished from \\nthe dura mater covering the spinal cord by its two \\nlayers. An outer periosteal layer  is attached to the \\ninner aspect of the cranium and is supplied by the \\nmeningeal arteries, which lie on its surface between \\nit and the bony skull. Imprints of these meningeal \\nForamen cecum\\nAnterior ethmoidal foramen\\nForamina of cribriform plate\\nPosterior ethmoidal foramen\\nOptic canal\\nSuperior orbital fissure\\nForamen rotundum\\nForamen ovale\\nForamen spinosum\\nForamen lacerum\\nHiatus for\\nHiatus for\\nInternal acoustic meatus\\nJugular foramen\\nHypoglossal canal\\nForamen magnumEmissary v. to superior sagittal sinus\\nAnterior ethmoidal a., v., and n.\\nOlfactory n. (CN I)\\nPosterior ethmoidal a., v., and n.\\nOptic n. (CN II)\\nOphthalmic a.\\nMaxillary n. (CN V2)\\nLesser petrosal n. (CN IX)\\nGreater petrosal n. (CN VII)\\nHypoglossal n. (CN XII)Oculomotor n. (CN III)\\nTrochlear n. (CN IV)\\nLacrimal, frontal, and nasociliary branches of ophthalmic n. (CN V1)\\nAbducens n. (CN VI)\\nSuperior ophthalmic v.\\nMandibular n. (CN V3)\\nAccessory meningeal a.\\nLesser petrosal n.\\nMiddle meningeal a. and v.\\nMeningeal branch of mandibular n.\\nMedulla oblongata\\nMeninges\\nVertebral aa. and venous plexus\\nMeningeal branches of vertebral aa.\\nSpinal roots of accessory nn. (CN XI)Inferior petrosal sinus\\nGlossopharyngeal n. (CN IX)\\nVagus n. (CN X)\\nAccessory n. (CN XI)\\nSigmoid sinus\\nPosterior meningeal a.Facial n. (CN VII)\\nVestibulocochlear n. (CN VIII)\\nLabyrinthine a.Internal carotid a.\\nInternal carotid n. plexusCarotid canal for\\nFIGURE 8.4  Superior Aspect of Cranial Base (Cranial Fossae). (From Atlas of human anatomy,  ed 7, \\nPlate 20.)', start_char_idx=0, end_char_idx=2440, text_template='{metadata_str}\\n\\n{content}', metadata_template='{key}: {value}', metadata_seperator='\\n'), score=0.8571330287696696), NodeWithScore(node=TextNode(id_='dbea9656-621b-410a-8489-23286f732f79', embedding=None, metadata={'page_label': '113', 'file_name': 'anatomybook.pdf', 'file_path': 'anatomybook.pdf', 'file_type': 'application/pdf', 'file_size': 52581393, 'creation_date': '2024-05-27', 'last_modified_date': '2024-05-20'}, excluded_embed_metadata_keys=['file_name', 'file_type', 'file_size', 'creation_date', 'last_modified_date', 'last_accessed_date'], excluded_llm_metadata_keys=['file_name', 'file_type', 'file_size', 'creation_date', 'last_modified_date', 'last_accessed_date'], relationships={<NodeRelationship.SOURCE: '1'>: RelatedNodeInfo(node_id='19fb8832-8151-4c9d-8163-9038d339e934', node_type=<ObjectType.DOCUMENT: '4'>, metadata={'page_label': '113', 'file_name': 'anatomybook.pdf', 'file_path': 'anatomybook.pdf', 'file_type': 'application/pdf', 'file_size': 52581393, 'creation_date': '2024-05-27', 'last_modified_date': '2024-05-20'}, hash='e566f5b63d151195449be2e77ab43159e677112e16aeb7358659895cf180b46c'), <NodeRelationship.PREVIOUS: '2'>: RelatedNodeInfo(node_id='ff4de732-1266-49ca-853e-a46af8f9701d', node_type=<ObjectType.TEXT: '1'>, metadata={'page_label': '113', 'file_name': 'anatomybook.pdf', 'file_path': 'anatomybook.pdf', 'file_type': 'application/pdf', 'file_size': 52581393, 'creation_date': '2024-05-27', 'last_modified_date': '2024-05-20'}, hash='543f501da4e14f27bfbc1a87b10ff7798624d3f65c134be94fa73f3ce6427859')}, text='21. C.  Of all the ligaments listed, only the ligamentum \\nﬂavum is found in the vertebral foramen, where \\nit connects adjacent laminae of two vertebrae.\\n22. E.  The thoracodorsal nerve innervates the latis-\\nsimus dorsi muscle. This muscle can medially \\nrotate, adduct, and extend the humerus; \\nextension of the humerus is its primary action. \\nIt is a muscle well developed in competitive \\nswimmers.\\n23. C.  Herpes zoster infection affects the sensory \\ndistribution of spinal and cranial nerves in a \\npattern generally following a dermatome. In \\nthis instance, it affects the dermatomes asso-\\nciated with the skin overlying the inferior angle \\nof the scapula, or, approximately, the derma-\\ntomes of T6-T7. See Clinical Focus 2-10 .\\n24. E.  As the spinal needle descends in the midline \\nof the back, it would normally encounter the \\nsupraspinous ligament and ligament ﬂavum \\nbefore it enters the vertebral foramen. It would \\nthen pierce the dura mater and arachnoid mater \\nbefore reaching the CSF in the subarachnoid \\nspace.\\n25. B.  The internal vertebral plexus (of Batson) of \\nveins lies within the vertebral foramen and \\njust outside the dura mater and epidural fat. \\nThe other spaces lie beneath the dura mater \\n(subdural or subarachnoid space). The central \\ncanal is within the spinal cord itself.\\n26. C.  The erector spinae muscles are true intrinsic \\nback muscles innervated by posterior rami  \\nof the spinal nerves. They are derived from \\nmyotomes (mesoderm) forming the epimeres. \\nHypomeres give rise to skeletal muscle inner-\\nvated by the anterior rami of spinal nerves.', start_char_idx=3296, end_char_idx=4874, text_template='{metadata_str}\\n\\n{content}', metadata_template='{key}: {value}', metadata_seperator='\\n'), score=0.8457075874524723)]\n",
            "\n",
            "\n",
            "-----------------\n",
            "\n",
            "\n"
          ]
        }
      ],
      "source": [
        "def predict1(prompt):\n",
        "    # print(str(query_engine1.retrieve(prompt)))\n",
        "    return str(query_engine1.query(prompt))\n",
        "\n",
        "def predict2(prompt):\n",
        "    # print(str(query_engine2.retrieve(prompt)))\n",
        "    return str(query_engine2.query(prompt))\n",
        "\n",
        "def evaluate4():\n",
        "  SAMPLE_CNT = len(dataset_validation)\n",
        "  mismatch_cnt = 0\n",
        "  predictions = []\n",
        "  references = []\n",
        "\n",
        "  for i in range(SAMPLE_CNT):\n",
        "    example = dataset_validation[i]\n",
        "    question, option_a, option_b, option_c, option_d = example[\"question\"], example[\"opa\"], example[\"opb\"], example[\"opc\"], example[\"opd\"]\n",
        "    prompt1 = f'''{question}\n",
        "\n",
        "{option_a}\n",
        "{option_b}\n",
        "{option_c}\n",
        "{option_d}\n",
        "\n",
        "Respond with the correct choice from the list above verbatim.  Do not include any explanation.'''\n",
        "    prompt2 = prompt1\n",
        "\n",
        "    options = [example['opa'], example['opb'], example['opc'], example['opd']]\n",
        "    correct_option = options[example['cop']]\n",
        "    references.append(correct_option)\n",
        "\n",
        "    prediction1 = predict1(prompt1)\n",
        "    if prediction1 not in options:\n",
        "      prompt1 += prediction1 + \"\\n\\nYour response does not exactly match one of the choices from the list. Do not apologise or include any text other than one of the options from the list verbatim without any label. Here are the options again\\n\\n\" + example['opa'] + \"\\n\\n\" + example['opb'] + \"\\n\\n\" + example['opc'] + \"\\n\\n\" + example['opd']\n",
        "      prediction1 = predict1(prompt1)\n",
        "\n",
        "    prediction2 = predict2(prompt2)\n",
        "    if prediction2 not in options:\n",
        "      prompt2 += prediction2 + \"\\n\\nYour response does not exactly match one of the choices from the list. Do not apologise or include any text other than one of the options from the list verbatim without any label. Here are the options again\\n\\n\" + example['opa'] + \"\\n\\n\" + example['opb'] + \"\\n\\n\" + example['opc'] + \"\\n\\n\" + example['opd']\n",
        "      prediction2 = predict2(prompt2)\n",
        "\n",
        "    if prediction1 in options and prediction2 not in options:\n",
        "       print(prompt1)\n",
        "       print(str(query_engine1.retrieve(prompt1)))\n",
        "       print(str(query_engine2.retrieve(prompt2)))\n",
        "      #  print(prediction1)\n",
        "      #  print(prediction2)\n",
        "       print('\\n\\n-----------------\\n\\n')\n",
        "\n",
        "    predictions.append(prediction1)\n",
        "\n",
        "    mismatch_cnt += prediction1 not in options\n",
        "\n",
        "  exact_match = sum([prediction == reference for prediction, reference, in zip(predictions, references)]) / SAMPLE_CNT\n",
        "  mismatch = mismatch_cnt / SAMPLE_CNT\n",
        "\n",
        "  return exact_match, mismatch\n",
        "\n",
        "exact_match, mismatch = evaluate4()"
      ]
    }
  ],
  "metadata": {
    "kernelspec": {
      "display_name": "Python 3",
      "language": "python",
      "name": "python3"
    },
    "language_info": {
      "codemirror_mode": {
        "name": "ipython",
        "version": 3
      },
      "file_extension": ".py",
      "mimetype": "text/x-python",
      "name": "python",
      "nbconvert_exporter": "python",
      "pygments_lexer": "ipython3",
      "version": "3.11.6"
    }
  },
  "nbformat": 4,
  "nbformat_minor": 2
}
