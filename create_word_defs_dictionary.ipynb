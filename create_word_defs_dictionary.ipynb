{
  "cells": [
    {
      "cell_type": "code",
      "execution_count": 1,
      "metadata": {
        "id": "j1uiGa0DG4wZ"
      },
      "outputs": [],
      "source": [
        "from pinecone import Pinecone, ServerlessSpec\n",
        "\n",
        "OPEN_API_KEY = 'INSERT_OPEN_API_KEY_HERE'\n",
        "\n",
        "PINECONE_KEY = 'INSERT_PINECONE_API_KEY_HERE'\n",
        "\n",
        "pc = Pinecone(api_key=PINECONE_KEY)"
      ]
    },
    {
      "cell_type": "code",
      "execution_count": 58,
      "metadata": {
        "id": "_kko-wq0Us6D"
      },
      "outputs": [],
      "source": [
        "index_name = \"anatomy-definitions-1-gram\"\n",
        "\n",
        "if index_name not in pc.list_indexes().names():\n",
        "  pc.create_index(\n",
        "      name=index_name,\n",
        "      dimension=1536,\n",
        "      metric=\"cosine\",\n",
        "      spec=ServerlessSpec(\n",
        "          cloud='aws',\n",
        "          region='us-east-1'\n",
        "      )\n",
        "  )\n",
        "\n",
        "index = pc.Index(index_name)"
      ]
    },
    {
      "cell_type": "code",
      "execution_count": 3,
      "metadata": {
        "id": "ys16bnn7JdEX"
      },
      "outputs": [],
      "source": [
        "from langchain_openai import OpenAIEmbeddings\n",
        "embed_model = OpenAIEmbeddings(model=\"text-embedding-ada-002\", openai_api_key=OPEN_API_KEY)\n",
        "\n",
        "def get_relevant_context(text, k=1):\n",
        "  embeds = embed_model.embed_documents([text])\n",
        "  results_1 = index.query(\n",
        "      vector=embeds,\n",
        "      top_k=k,\n",
        "      include_metadata=True\n",
        "  )\n",
        "\n",
        "  results = []\n",
        "\n",
        "  for result in results_1[\"matches\"]:\n",
        "    results.append(result[\"metadata\"][\"text\"])\n",
        "  return results"
      ]
    },
    {
      "cell_type": "code",
      "execution_count": 72,
      "metadata": {},
      "outputs": [
        {
          "name": "stdout",
          "output_type": "stream",
          "text": [
            "288\n",
            "226\n"
          ]
        }
      ],
      "source": [
        "import json\n",
        "\n",
        "data = []\n",
        "with open('data/dev.json', 'r') as file:\n",
        "    for line in file:\n",
        "        data.append(json.loads(line))\n",
        "\n",
        "data = [d for d in data if d[\"subject_name\"] == \"Anatomy\"]\n",
        "\n",
        "terms = [d[\"opa\"] for d in data] + [d[\"opb\"] for d in data] + [d[\"opc\"] for d in data] + [d[\"opd\"] for d in data]\n",
        "\n",
        "terms = list(filter(lambda x: len(x.split()) < 2, terms))\n",
        "unique_terms = list(set(terms))\n",
        "\n",
        "print(len(terms))\n",
        "print(len(unique_terms))"
      ]
    },
    {
      "cell_type": "code",
      "execution_count": 55,
      "metadata": {
        "id": "xmKTfIkhFdHT"
      },
      "outputs": [],
      "source": [
        "from openai import OpenAI\n",
        "client = OpenAI(api_key=OPEN_API_KEY)\n",
        "\n",
        "def prompt_gpt(prompt):\n",
        "  completion = client.chat.completions.create(\n",
        "    model=\"gpt-3.5-turbo\",\n",
        "    messages=[\n",
        "        {\"role\": \"user\", \"content\": prompt}]\n",
        "  )\n",
        "  return completion.choices[0].message.content"
      ]
    },
    {
      "cell_type": "code",
      "execution_count": null,
      "metadata": {
        "colab": {
          "base_uri": "https://localhost:8080/"
        },
        "id": "bAA_kG343qe0",
        "outputId": "52b3d46c-dd42-469b-97e0-53fbffb50cae"
      },
      "outputs": [],
      "source": [
        "from tqdm import tqdm\n",
        "\n",
        "instruction = \"Provide a short definition for the following medical term: \"\n",
        "\n",
        "definitions = []\n",
        "\n",
        "for term in tqdm(unique_terms):\n",
        "  definitions.append(prompt_gpt(instruction + term))"
      ]
    },
    {
      "cell_type": "code",
      "execution_count": 52,
      "metadata": {},
      "outputs": [
        {
          "name": "stdout",
          "output_type": "stream",
          "text": [
            "Cerebellorubral \n",
            "\n",
            "4mg/L \n",
            "\n",
            "Hyperacusis \n",
            "\n",
            "Propanalol \n",
            "\n",
            "Nephroureterostomy \n",
            "\n",
            "Angioblasts \n",
            "\n",
            "Hamate \n",
            "\n",
            "Lipid \n",
            "\n",
            "Filiform \n",
            "\n",
            "Paracolic \n",
            "\n"
          ]
        }
      ],
      "source": [
        "for q in unique_terms[:10]:\n",
        "  print(q, \"\\n\")"
      ]
    },
    {
      "cell_type": "code",
      "execution_count": 53,
      "metadata": {
        "colab": {
          "base_uri": "https://localhost:8080/"
        },
        "id": "YPqyb-kM4DCZ",
        "outputId": "f1848675-e887-44da-d90b-8976415b26e1"
      },
      "outputs": [
        {
          "name": "stdout",
          "output_type": "stream",
          "text": [
            "Cerebellorubral: Relating to both the cerebellum and the red nucleus. \n",
            "\n",
            "\n",
            "4mg/L refers to a measurement of milligrams per liter, indicating the concentration of a substance in a liquid. \n",
            "\n",
            "\n",
            "Hyperacusis is a condition in which an individual experiences increased sensitivity to normal environmental sounds, causing discomfort or pain. \n",
            "\n",
            "\n",
            "Propanalol is a beta-blocker medication used to treat high blood pressure, angina, and tremors. It works by slowing down the heart rate and reducing the workload on the heart. \n",
            "\n",
            "\n",
            "Nephroureterostomy is a surgical procedure that involves connecting the kidney to the ureter in order to restore or improve urinary flow. \n",
            "\n",
            "\n",
            "Angioblasts are undifferentiated cells that have the potential to develop into blood vessels. \n",
            "\n",
            "\n",
            "The hamate is a small bone located in the wrist of the hand. \n",
            "\n",
            "\n",
            "Lipid: A type of organic compound that includes fats, oils, and cholesterol, and is an essential component of living cells. \n",
            "\n",
            "\n",
            "Filiform: A type of papilla on the tongue that is thin and thread-like in shape. \n",
            "\n",
            "\n",
            "Relating to or located near the colon. \n",
            "\n",
            "\n"
          ]
        }
      ],
      "source": [
        "for i in definitions:\n",
        "  print(i, '\\n\\n')"
      ]
    },
    {
      "cell_type": "code",
      "execution_count": 59,
      "metadata": {
        "colab": {
          "base_uri": "https://localhost:8080/"
        },
        "id": "NOFqa8BnV2JD",
        "outputId": "7e3ffc55-b244-4ecf-b448-824a7ff074b2"
      },
      "outputs": [
        {
          "name": "stderr",
          "output_type": "stream",
          "text": [
            "  0%|          | 0/49 [00:00<?, ?it/s]"
          ]
        },
        {
          "name": "stderr",
          "output_type": "stream",
          "text": [
            "100%|██████████| 49/49 [02:40<00:00,  3.27s/it]\n"
          ]
        }
      ],
      "source": [
        "from tqdm import tqdm\n",
        "\n",
        "texts = definitions\n",
        "\n",
        "batch_size = 100\n",
        "\n",
        "for i in tqdm(range(0, len(texts), batch_size)):\n",
        "    i_end = min(len(texts), i+batch_size)\n",
        "    batch = texts[i:i_end]\n",
        "    ids = [\"definition-1\" + str(i) for i in range(i, i_end)]\n",
        "    embeds = embed_model.embed_documents(batch)\n",
        "    metadata = [{'text': text} for text in batch]\n",
        "    index.upsert(vectors=zip(ids, embeds, metadata))"
      ]
    },
    {
      "cell_type": "code",
      "execution_count": 74,
      "metadata": {},
      "outputs": [],
      "source": [
        "import json\n",
        " \n",
        "unique_terms\n",
        "dictionary = dict(zip(unique_terms, definitions))\n",
        "\n",
        "with open('word_defs.json', 'w') as json_file:\n",
        "    json.dump(dictionary, json_file, indent=4)\n"
      ]
    }
  ],
  "metadata": {
    "colab": {
      "provenance": []
    },
    "kernelspec": {
      "display_name": "Python 3",
      "name": "python3"
    },
    "language_info": {
      "codemirror_mode": {
        "name": "ipython",
        "version": 3
      },
      "file_extension": ".py",
      "mimetype": "text/x-python",
      "name": "python",
      "nbconvert_exporter": "python",
      "pygments_lexer": "ipython3",
      "version": "3.11.6"
    }
  },
  "nbformat": 4,
  "nbformat_minor": 0
}
